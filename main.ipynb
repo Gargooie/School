{
 "cells": [
  {
   "cell_type": "code",
   "execution_count": 27,
   "metadata": {
    "ExecuteTime": {
     "end_time": "2024-03-14T08:24:39.024524Z",
     "start_time": "2024-03-14T08:24:39.020850Z"
    },
    "collapsed": true
   },
   "outputs": [
    {
     "ename": "ModuleNotFoundError",
     "evalue": "No module named 'matplotlib'",
     "output_type": "error",
     "traceback": [
      "\u001b[0;31m---------------------------------------------------------------------------\u001b[0m",
      "\u001b[0;31mModuleNotFoundError\u001b[0m                       Traceback (most recent call last)",
      "Cell \u001b[0;32mIn[27], line 2\u001b[0m\n\u001b[1;32m      1\u001b[0m \u001b[38;5;28;01mimport\u001b[39;00m \u001b[38;5;21;01mrandom\u001b[39;00m\n\u001b[0;32m----> 2\u001b[0m \u001b[38;5;28;01mimport\u001b[39;00m \u001b[38;5;21;01mmatplotlib\u001b[39;00m\u001b[38;5;21;01m.\u001b[39;00m\u001b[38;5;21;01mpyplot\u001b[39;00m \u001b[38;5;28;01mas\u001b[39;00m \u001b[38;5;21;01mplt\u001b[39;00m\n\u001b[1;32m      4\u001b[0m \u001b[38;5;28;01mclass\u001b[39;00m \u001b[38;5;21;01mPlayer\u001b[39;00m:\n\u001b[1;32m      5\u001b[0m     \u001b[38;5;28;01mdef\u001b[39;00m \u001b[38;5;21m__init__\u001b[39m(\u001b[38;5;28mself\u001b[39m, name, strategy):\n",
      "\u001b[0;31mModuleNotFoundError\u001b[0m: No module named 'matplotlib'"
     ]
    }
   ],
   "source": [
    "напиши код с классами на python, это будет игра 2 персонажей. \n",
    "У игрока есть 2 действия сотрудничать или предать. Один раунд это действия 2 игроков в начале и 4 исхода. \n",
    "1 исход: 1 игрок выбрал сотрудничать 2 игрок выбрал сотрудничать. 1 игроку дается 3 очка, 2 игроку 3 очка\n",
    "2 исход: 1 игрок выбрал сотрудничать 2 игрок выбрал предать. 1 игроку дается 0 очков, 2 игроку 5 очков\n",
    "3 исход: 1 игрок выбрал предать 2 игрок выбрал сотрудничать. 1 игроку дается 5 очков, 2 игроку 0 очка\n",
    "4 исход: 1 игрок выбрал предать 2 игрок выбрал предать. 1 игроку дается 1 очко, 2 игроку 1 очко\n",
    "\n",
    "всего будет 10 раундов, действия игроков будут случайными, в конце игры показывают итоговые суммы очков каждого игрока, после каждого раунда выводится сообщение какое действие выполнил игрок и сколько очков получил каждый"
   ]
  }
 ],
 "metadata": {
  "kernelspec": {
   "display_name": "Python 3",
   "language": "python",
   "name": "python3"
  },
  "language_info": {
   "codemirror_mode": {
    "name": "ipython",
    "version": 3
   },
   "file_extension": ".py",
   "mimetype": "text/x-python",
   "name": "python",
   "nbconvert_exporter": "python",
   "pygments_lexer": "ipython3",
   "version": "3.11.7"
  }
 },
 "nbformat": 4,
 "nbformat_minor": 0
}
